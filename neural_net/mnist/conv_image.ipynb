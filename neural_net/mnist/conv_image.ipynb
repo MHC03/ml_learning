{
 "cells": [
  {
   "cell_type": "code",
   "execution_count": 1,
   "metadata": {},
   "outputs": [],
   "source": [
    "using Images, JLD"
   ]
  },
  {
   "cell_type": "markdown",
   "metadata": {},
   "source": [
    "inspired by http://opensourc.es/blog/tensorflow-mnist"
   ]
  },
  {
   "cell_type": "markdown",
   "metadata": {},
   "source": [
    "## One by One approach"
   ]
  },
  {
   "cell_type": "code",
   "execution_count": 2,
   "metadata": {
    "scrolled": true
   },
   "outputs": [
    {
     "data": {
      "image/png": "[encoded data removed]",
      "text/plain": [
       "1080×1080 Array{RGB{N0f8},2}:\n",
       " RGB{N0f8}(1.0,1.0,1.0)  RGB{N0f8}(1.0,1.0,1.0)  …  RGB{N0f8}(1.0,1.0,1.0)\n",
       " RGB{N0f8}(1.0,1.0,1.0)  RGB{N0f8}(1.0,1.0,1.0)     RGB{N0f8}(1.0,1.0,1.0)\n",
       " RGB{N0f8}(1.0,1.0,1.0)  RGB{N0f8}(1.0,1.0,1.0)     RGB{N0f8}(1.0,1.0,1.0)\n",
       " RGB{N0f8}(1.0,1.0,1.0)  RGB{N0f8}(1.0,1.0,1.0)     RGB{N0f8}(1.0,1.0,1.0)\n",
       " RGB{N0f8}(1.0,1.0,1.0)  RGB{N0f8}(1.0,1.0,1.0)     RGB{N0f8}(1.0,1.0,1.0)\n",
       " RGB{N0f8}(1.0,1.0,1.0)  RGB{N0f8}(1.0,1.0,1.0)  …  RGB{N0f8}(1.0,1.0,1.0)\n",
       " RGB{N0f8}(1.0,1.0,1.0)  RGB{N0f8}(1.0,1.0,1.0)     RGB{N0f8}(1.0,1.0,1.0)\n",
       " RGB{N0f8}(1.0,1.0,1.0)  RGB{N0f8}(1.0,1.0,1.0)     RGB{N0f8}(1.0,1.0,1.0)\n",
       " RGB{N0f8}(1.0,1.0,1.0)  RGB{N0f8}(1.0,1.0,1.0)     RGB{N0f8}(1.0,1.0,1.0)\n",
       " RGB{N0f8}(1.0,1.0,1.0)  RGB{N0f8}(1.0,1.0,1.0)     RGB{N0f8}(1.0,1.0,1.0)\n",
       " RGB{N0f8}(1.0,1.0,1.0)  RGB{N0f8}(1.0,1.0,1.0)  …  RGB{N0f8}(1.0,1.0,1.0)\n",
       " RGB{N0f8}(1.0,1.0,1.0)  RGB{N0f8}(1.0,1.0,1.0)     RGB{N0f8}(1.0,1.0,1.0)\n",
       " RGB{N0f8}(1.0,1.0,1.0)  RGB{N0f8}(1.0,1.0,1.0)     RGB{N0f8}(1.0,1.0,1.0)\n",
       " ⋮                                               ⋱                        \n",
       " RGB{N0f8}(1.0,1.0,1.0)  RGB{N0f8}(1.0,1.0,1.0)     RGB{N0f8}(1.0,1.0,1.0)\n",
       " RGB{N0f8}(1.0,1.0,1.0)  RGB{N0f8}(1.0,1.0,1.0)     RGB{N0f8}(1.0,1.0,1.0)\n",
       " RGB{N0f8}(1.0,1.0,1.0)  RGB{N0f8}(1.0,1.0,1.0)  …  RGB{N0f8}(1.0,1.0,1.0)\n",
       " RGB{N0f8}(1.0,1.0,1.0)  RGB{N0f8}(1.0,1.0,1.0)     RGB{N0f8}(1.0,1.0,1.0)\n",
       " RGB{N0f8}(1.0,1.0,1.0)  RGB{N0f8}(1.0,1.0,1.0)     RGB{N0f8}(1.0,1.0,1.0)\n",
       " RGB{N0f8}(1.0,1.0,1.0)  RGB{N0f8}(1.0,1.0,1.0)     RGB{N0f8}(1.0,1.0,1.0)\n",
       " RGB{N0f8}(1.0,1.0,1.0)  RGB{N0f8}(1.0,1.0,1.0)     RGB{N0f8}(1.0,1.0,1.0)\n",
       " RGB{N0f8}(1.0,1.0,1.0)  RGB{N0f8}(1.0,1.0,1.0)  …  RGB{N0f8}(1.0,1.0,1.0)\n",
       " RGB{N0f8}(1.0,1.0,1.0)  RGB{N0f8}(1.0,1.0,1.0)     RGB{N0f8}(1.0,1.0,1.0)\n",
       " RGB{N0f8}(1.0,1.0,1.0)  RGB{N0f8}(1.0,1.0,1.0)     RGB{N0f8}(1.0,1.0,1.0)\n",
       " RGB{N0f8}(1.0,1.0,1.0)  RGB{N0f8}(1.0,1.0,1.0)     RGB{N0f8}(1.0,1.0,1.0)\n",
       " RGB{N0f8}(1.0,1.0,1.0)  RGB{N0f8}(1.0,1.0,1.0)     RGB{N0f8}(1.0,1.0,1.0)"
      ]
     },
     "execution_count": 2,
     "metadata": {},
     "output_type": "execute_result"
    }
   ],
   "source": [
    "bigger_img = load(\"bigger_image.png\")"
   ]
  },
  {
   "cell_type": "markdown",
   "metadata": {},
   "source": [
    "Preprocessing according to http://opensourc.es/blog/tensorflow-mnist"
   ]
  },
  {
   "cell_type": "code",
   "execution_count": 3,
   "metadata": {},
   "outputs": [
    {
     "data": {
      "image/png": "[encoded data removed]",
      "text/plain": [
       "28×28 Array{Gray{Float64},2}:\n",
       " Gray{Float64}(0.0)  Gray{Float64}(0.0)  …  Gray{Float64}(0.0)\n",
       " Gray{Float64}(0.0)  Gray{Float64}(0.0)     Gray{Float64}(0.0)\n",
       " Gray{Float64}(0.0)  Gray{Float64}(0.0)     Gray{Float64}(0.0)\n",
       " Gray{Float64}(0.0)  Gray{Float64}(0.0)     Gray{Float64}(0.0)\n",
       " Gray{Float64}(0.0)  Gray{Float64}(0.0)     Gray{Float64}(0.0)\n",
       " Gray{Float64}(0.0)  Gray{Float64}(0.0)  …  Gray{Float64}(0.0)\n",
       " Gray{Float64}(0.0)  Gray{Float64}(0.0)     Gray{Float64}(0.0)\n",
       " Gray{Float64}(0.0)  Gray{Float64}(0.0)     Gray{Float64}(0.0)\n",
       " Gray{Float64}(0.0)  Gray{Float64}(0.0)     Gray{Float64}(0.0)\n",
       " Gray{Float64}(0.0)  Gray{Float64}(0.0)     Gray{Float64}(0.0)\n",
       " Gray{Float64}(0.0)  Gray{Float64}(0.0)  …  Gray{Float64}(0.0)\n",
       " Gray{Float64}(0.0)  Gray{Float64}(0.0)     Gray{Float64}(0.0)\n",
       " Gray{Float64}(0.0)  Gray{Float64}(0.0)     Gray{Float64}(0.0)\n",
       " ⋮                                       ⋱                    \n",
       " Gray{Float64}(0.0)  Gray{Float64}(0.0)     Gray{Float64}(0.0)\n",
       " Gray{Float64}(0.0)  Gray{Float64}(0.0)     Gray{Float64}(0.0)\n",
       " Gray{Float64}(0.0)  Gray{Float64}(0.0)     Gray{Float64}(0.0)\n",
       " Gray{Float64}(0.0)  Gray{Float64}(0.0)     Gray{Float64}(0.0)\n",
       " Gray{Float64}(0.0)  Gray{Float64}(0.0)  …  Gray{Float64}(0.0)\n",
       " Gray{Float64}(0.0)  Gray{Float64}(0.0)     Gray{Float64}(0.0)\n",
       " Gray{Float64}(0.0)  Gray{Float64}(0.0)     Gray{Float64}(0.0)\n",
       " Gray{Float64}(0.0)  Gray{Float64}(0.0)     Gray{Float64}(0.0)\n",
       " Gray{Float64}(0.0)  Gray{Float64}(0.0)     Gray{Float64}(0.0)\n",
       " Gray{Float64}(0.0)  Gray{Float64}(0.0)  …  Gray{Float64}(0.0)\n",
       " Gray{Float64}(0.0)  Gray{Float64}(0.0)     Gray{Float64}(0.0)\n",
       " Gray{Float64}(0.0)  Gray{Float64}(0.0)     Gray{Float64}(0.0)"
      ]
     },
     "execution_count": 3,
     "metadata": {},
     "output_type": "execute_result"
    }
   ],
   "source": [
    "invert_grayed = abs.(Gray.(imresize(bigger_img, (28, 28))) .- 1.0)\n",
    "colorview(Gray, invert_grayed)"
   ]
  },
  {
   "cell_type": "code",
   "execution_count": 4,
   "metadata": {},
   "outputs": [],
   "source": [
    "while sum(invert_grayed[1, :]) == 0\n",
    "    invert_grayed = invert_grayed[2:end, :]\n",
    "end"
   ]
  },
  {
   "cell_type": "code",
   "execution_count": 5,
   "metadata": {},
   "outputs": [],
   "source": [
    "while sum(invert_grayed[:, 1]) == 0\n",
    "    invert_grayed = invert_grayed[:, 2:end]\n",
    "end"
   ]
  },
  {
   "cell_type": "code",
   "execution_count": 6,
   "metadata": {},
   "outputs": [],
   "source": [
    "while sum(invert_grayed[end, :]) == 0\n",
    "    invert_grayed = invert_grayed[1:end-1, :]\n",
    "end"
   ]
  },
  {
   "cell_type": "code",
   "execution_count": 7,
   "metadata": {},
   "outputs": [],
   "source": [
    "while sum(invert_grayed[:, end]) == 0\n",
    "    invert_grayed = invert_grayed[:, 1:end-1]\n",
    "end"
   ]
  },
  {
   "cell_type": "code",
   "execution_count": 8,
   "metadata": {},
   "outputs": [
    {
     "data": {
      "image/png": "[encoded data removed]",
      "text/plain": [
       "20×14 Array{Gray{Float64},2}:\n",
       " Gray{Float64}(0.0)  Gray{Float64}(1.0)       …  Gray{Float64}(0.0)     \n",
       " Gray{Float64}(1.0)  Gray{Float64}(1.0)          Gray{Float64}(0.0)     \n",
       " Gray{Float64}(1.0)  Gray{Float64}(0.231373)     Gray{Float64}(0.0)     \n",
       " Gray{Float64}(0.0)  Gray{Float64}(0.0)          Gray{Float64}(0.0)     \n",
       " Gray{Float64}(0.0)  Gray{Float64}(0.0)          Gray{Float64}(1.0)     \n",
       " Gray{Float64}(0.0)  Gray{Float64}(0.0)       …  Gray{Float64}(1.0)     \n",
       " Gray{Float64}(0.0)  Gray{Float64}(0.0)          Gray{Float64}(1.0)     \n",
       " Gray{Float64}(0.0)  Gray{Float64}(0.0)          Gray{Float64}(1.0)     \n",
       " Gray{Float64}(0.0)  Gray{Float64}(0.0)          Gray{Float64}(0.984314)\n",
       " Gray{Float64}(0.0)  Gray{Float64}(0.0)          Gray{Float64}(0.0)     \n",
       " Gray{Float64}(0.0)  Gray{Float64}(0.0)       …  Gray{Float64}(0.0)     \n",
       " Gray{Float64}(0.0)  Gray{Float64}(0.0)          Gray{Float64}(0.784314)\n",
       " Gray{Float64}(0.0)  Gray{Float64}(0.0)          Gray{Float64}(1.0)     \n",
       " Gray{Float64}(0.0)  Gray{Float64}(0.0)          Gray{Float64}(1.0)     \n",
       " Gray{Float64}(0.0)  Gray{Float64}(0.0)          Gray{Float64}(1.0)     \n",
       " Gray{Float64}(0.0)  Gray{Float64}(1.0)       …  Gray{Float64}(0.729412)\n",
       " Gray{Float64}(1.0)  Gray{Float64}(1.0)          Gray{Float64}(0.0)     \n",
       " Gray{Float64}(0.0)  Gray{Float64}(1.0)          Gray{Float64}(0.0)     \n",
       " Gray{Float64}(0.0)  Gray{Float64}(0.0)          Gray{Float64}(0.0)     \n",
       " Gray{Float64}(0.0)  Gray{Float64}(0.0)          Gray{Float64}(0.0)     "
      ]
     },
     "execution_count": 8,
     "metadata": {},
     "output_type": "execute_result"
    }
   ],
   "source": [
    "colorview(Gray, invert_grayed)"
   ]
  },
  {
   "cell_type": "code",
   "execution_count": 9,
   "metadata": {},
   "outputs": [
    {
     "data": {
      "text/plain": [
       "(20, 14)"
      ]
     },
     "execution_count": 9,
     "metadata": {},
     "output_type": "execute_result"
    }
   ],
   "source": [
    "rows, cols = size(invert_grayed)"
   ]
  },
  {
   "cell_type": "code",
   "execution_count": 10,
   "metadata": {},
   "outputs": [
    {
     "data": {
      "text/plain": [
       "20×14 Array{Float64,2}:\n",
       " 0.0  1.0       1.0  1.0  1.0  1.0  1.0  …  1.0  0.0       0.0  0.0  0.0     \n",
       " 1.0  1.0       1.0  1.0  1.0  1.0  1.0     1.0  1.0       1.0  0.0  0.0     \n",
       " 1.0  0.231373  0.0  0.0  0.0  0.0  0.0     0.0  1.0       1.0  1.0  0.0     \n",
       " 0.0  0.0       0.0  0.0  0.0  0.0  0.0     0.0  0.0       1.0  1.0  0.0     \n",
       " 0.0  0.0       0.0  0.0  0.0  0.0  0.0     0.0  0.0       0.0  1.0  1.0     \n",
       " 0.0  0.0       0.0  0.0  0.0  0.0  0.0  …  0.0  0.0       0.0  1.0  1.0     \n",
       " 0.0  0.0       0.0  0.0  0.0  0.0  0.0     0.0  0.0       0.0  1.0  1.0     \n",
       " 0.0  0.0       0.0  0.0  0.0  0.0  0.0     0.0  0.0       0.0  1.0  1.0     \n",
       " 0.0  0.0       0.0  0.0  0.0  1.0  1.0     1.0  1.0       1.0  1.0  0.984314\n",
       " 0.0  0.0       0.0  0.0  0.0  1.0  1.0     1.0  1.0       1.0  0.0  0.0     \n",
       " 0.0  0.0       0.0  0.0  0.0  0.0  0.0  …  1.0  1.0       1.0  1.0  0.0     \n",
       " 0.0  0.0       0.0  0.0  0.0  0.0  0.0     0.0  0.0       1.0  1.0  0.784314\n",
       " 0.0  0.0       0.0  0.0  0.0  0.0  0.0     0.0  0.0       0.0  1.0  1.0     \n",
       " 0.0  0.0       0.0  0.0  0.0  0.0  0.0     0.0  0.0       0.0  1.0  1.0     \n",
       " 0.0  0.0       0.0  0.0  0.0  0.0  0.0     0.0  0.0       0.0  1.0  1.0     \n",
       " 0.0  1.0       0.0  0.0  0.0  0.0  0.0  …  0.0  0.0       1.0  1.0  0.729412\n",
       " 1.0  1.0       1.0  0.0  0.0  0.0  0.0     0.0  0.0       1.0  1.0  0.0     \n",
       " 0.0  1.0       1.0  1.0  1.0  1.0  0.0     0.0  1.0       1.0  1.0  0.0     \n",
       " 0.0  0.0       0.0  1.0  1.0  1.0  1.0     1.0  1.0       1.0  0.0  0.0     \n",
       " 0.0  0.0       0.0  0.0  0.0  0.0  1.0     1.0  0.321569  0.0  0.0  0.0     "
      ]
     },
     "execution_count": 10,
     "metadata": {},
     "output_type": "execute_result"
    }
   ],
   "source": [
    "if rows > cols\n",
    "    factor = 20 / rows\n",
    "    rows = 20\n",
    "    cols = Int(round(factor * cols))\n",
    "    invert_grayed = imresize(invert_grayed, (rows, cols))\n",
    "else\n",
    "    factor = 20 / cols\n",
    "    cols = 20\n",
    "    rows = Int(round(factor*rows))\n",
    "    invert_grayed = imresize(invert_grayed, (rows, cols))\n",
    "end"
   ]
  },
  {
   "cell_type": "code",
   "execution_count": 11,
   "metadata": {},
   "outputs": [
    {
     "data": {
      "image/png": "[encoded data removed]",
      "text/plain": [
       "20×14 Array{Gray{Float64},2}:\n",
       " Gray{Float64}(0.0)  Gray{Float64}(1.0)       …  Gray{Float64}(0.0)     \n",
       " Gray{Float64}(1.0)  Gray{Float64}(1.0)          Gray{Float64}(0.0)     \n",
       " Gray{Float64}(1.0)  Gray{Float64}(0.231373)     Gray{Float64}(0.0)     \n",
       " Gray{Float64}(0.0)  Gray{Float64}(0.0)          Gray{Float64}(0.0)     \n",
       " Gray{Float64}(0.0)  Gray{Float64}(0.0)          Gray{Float64}(1.0)     \n",
       " Gray{Float64}(0.0)  Gray{Float64}(0.0)       …  Gray{Float64}(1.0)     \n",
       " Gray{Float64}(0.0)  Gray{Float64}(0.0)          Gray{Float64}(1.0)     \n",
       " Gray{Float64}(0.0)  Gray{Float64}(0.0)          Gray{Float64}(1.0)     \n",
       " Gray{Float64}(0.0)  Gray{Float64}(0.0)          Gray{Float64}(0.984314)\n",
       " Gray{Float64}(0.0)  Gray{Float64}(0.0)          Gray{Float64}(0.0)     \n",
       " Gray{Float64}(0.0)  Gray{Float64}(0.0)       …  Gray{Float64}(0.0)     \n",
       " Gray{Float64}(0.0)  Gray{Float64}(0.0)          Gray{Float64}(0.784314)\n",
       " Gray{Float64}(0.0)  Gray{Float64}(0.0)          Gray{Float64}(1.0)     \n",
       " Gray{Float64}(0.0)  Gray{Float64}(0.0)          Gray{Float64}(1.0)     \n",
       " Gray{Float64}(0.0)  Gray{Float64}(0.0)          Gray{Float64}(1.0)     \n",
       " Gray{Float64}(0.0)  Gray{Float64}(1.0)       …  Gray{Float64}(0.729412)\n",
       " Gray{Float64}(1.0)  Gray{Float64}(1.0)          Gray{Float64}(0.0)     \n",
       " Gray{Float64}(0.0)  Gray{Float64}(1.0)          Gray{Float64}(0.0)     \n",
       " Gray{Float64}(0.0)  Gray{Float64}(0.0)          Gray{Float64}(0.0)     \n",
       " Gray{Float64}(0.0)  Gray{Float64}(0.0)          Gray{Float64}(0.0)     "
      ]
     },
     "execution_count": 11,
     "metadata": {},
     "output_type": "execute_result"
    }
   ],
   "source": [
    "colorview(Gray, invert_grayed)"
   ]
  },
  {
   "cell_type": "code",
   "execution_count": 12,
   "metadata": {},
   "outputs": [
    {
     "data": {
      "text/plain": [
       "(7, 7)"
      ]
     },
     "execution_count": 12,
     "metadata": {},
     "output_type": "execute_result"
    }
   ],
   "source": [
    "row_padding = (Int(floor((28 - rows) / 2)), Int(ceil((28 - rows) / 2)))\n",
    "col_padding  = (Int(floor((28 - cols) / 2)), Int(ceil((28 - cols) / 2)))"
   ]
  },
  {
   "cell_type": "code",
   "execution_count": 13,
   "metadata": {},
   "outputs": [
    {
     "data": {
      "text/plain": [
       "28×28 Array{Float64,2}:\n",
       " 0.0  0.0  0.0  0.0  0.0  0.0  0.0  0.0  …  0.0  0.0  0.0  0.0  0.0  0.0  0.0\n",
       " 0.0  0.0  0.0  0.0  0.0  0.0  0.0  0.0     0.0  0.0  0.0  0.0  0.0  0.0  0.0\n",
       " 0.0  0.0  0.0  0.0  0.0  0.0  0.0  0.0     0.0  0.0  0.0  0.0  0.0  0.0  0.0\n",
       " 0.0  0.0  0.0  0.0  0.0  0.0  0.0  0.0     0.0  0.0  0.0  0.0  0.0  0.0  0.0\n",
       " 0.0  0.0  0.0  0.0  0.0  0.0  0.0  0.0     0.0  0.0  0.0  0.0  0.0  0.0  0.0\n",
       " 0.0  0.0  0.0  0.0  0.0  0.0  0.0  1.0  …  0.0  0.0  0.0  0.0  0.0  0.0  0.0\n",
       " 0.0  0.0  0.0  0.0  0.0  0.0  0.0  1.0     0.0  0.0  0.0  0.0  0.0  0.0  0.0\n",
       " 0.0  0.0  0.0  0.0  0.0  0.0  0.0  0.0     0.0  0.0  0.0  0.0  0.0  0.0  0.0\n",
       " 0.0  0.0  0.0  0.0  0.0  0.0  0.0  0.0     0.0  0.0  0.0  0.0  0.0  0.0  0.0\n",
       " 0.0  0.0  0.0  0.0  0.0  0.0  0.0  0.0     0.0  0.0  0.0  0.0  0.0  0.0  0.0\n",
       " 0.0  0.0  0.0  0.0  0.0  0.0  0.0  0.0  …  0.0  0.0  0.0  0.0  0.0  0.0  0.0\n",
       " 0.0  0.0  0.0  0.0  0.0  0.0  0.0  0.0     0.0  0.0  0.0  0.0  0.0  0.0  0.0\n",
       " 0.0  0.0  0.0  0.0  0.0  0.0  0.0  0.0     0.0  0.0  0.0  0.0  0.0  0.0  0.0\n",
       " ⋮                        ⋮              ⋱                      ⋮            \n",
       " 0.0  0.0  0.0  0.0  0.0  0.0  0.0  0.0     0.0  0.0  0.0  0.0  0.0  0.0  0.0\n",
       " 0.0  0.0  0.0  0.0  0.0  0.0  0.0  0.0     0.0  0.0  0.0  0.0  0.0  0.0  0.0\n",
       " 0.0  0.0  0.0  0.0  0.0  0.0  0.0  0.0     0.0  0.0  0.0  0.0  0.0  0.0  0.0\n",
       " 0.0  0.0  0.0  0.0  0.0  0.0  0.0  0.0     0.0  0.0  0.0  0.0  0.0  0.0  0.0\n",
       " 0.0  0.0  0.0  0.0  0.0  0.0  0.0  1.0  …  0.0  0.0  0.0  0.0  0.0  0.0  0.0\n",
       " 0.0  0.0  0.0  0.0  0.0  0.0  0.0  0.0     0.0  0.0  0.0  0.0  0.0  0.0  0.0\n",
       " 0.0  0.0  0.0  0.0  0.0  0.0  0.0  0.0     0.0  0.0  0.0  0.0  0.0  0.0  0.0\n",
       " 0.0  0.0  0.0  0.0  0.0  0.0  0.0  0.0     0.0  0.0  0.0  0.0  0.0  0.0  0.0\n",
       " 0.0  0.0  0.0  0.0  0.0  0.0  0.0  0.0     0.0  0.0  0.0  0.0  0.0  0.0  0.0\n",
       " 0.0  0.0  0.0  0.0  0.0  0.0  0.0  0.0  …  0.0  0.0  0.0  0.0  0.0  0.0  0.0\n",
       " 0.0  0.0  0.0  0.0  0.0  0.0  0.0  0.0     0.0  0.0  0.0  0.0  0.0  0.0  0.0\n",
       " 0.0  0.0  0.0  0.0  0.0  0.0  0.0  0.0     0.0  0.0  0.0  0.0  0.0  0.0  0.0"
      ]
     },
     "execution_count": 13,
     "metadata": {},
     "output_type": "execute_result"
    }
   ],
   "source": [
    "padded_array = parent(padarray(invert_grayed, Fill(0, zip(row_padding, col_padding)...)))"
   ]
  },
  {
   "cell_type": "code",
   "execution_count": 14,
   "metadata": {},
   "outputs": [
    {
     "data": {
      "image/png": "[encoded data removed]",
      "text/plain": [
       "28×28 Array{Gray{Float64},2}:\n",
       " Gray{Float64}(0.0)  Gray{Float64}(0.0)  …  Gray{Float64}(0.0)\n",
       " Gray{Float64}(0.0)  Gray{Float64}(0.0)     Gray{Float64}(0.0)\n",
       " Gray{Float64}(0.0)  Gray{Float64}(0.0)     Gray{Float64}(0.0)\n",
       " Gray{Float64}(0.0)  Gray{Float64}(0.0)     Gray{Float64}(0.0)\n",
       " Gray{Float64}(0.0)  Gray{Float64}(0.0)     Gray{Float64}(0.0)\n",
       " Gray{Float64}(0.0)  Gray{Float64}(0.0)  …  Gray{Float64}(0.0)\n",
       " Gray{Float64}(0.0)  Gray{Float64}(0.0)     Gray{Float64}(0.0)\n",
       " Gray{Float64}(0.0)  Gray{Float64}(0.0)     Gray{Float64}(0.0)\n",
       " Gray{Float64}(0.0)  Gray{Float64}(0.0)     Gray{Float64}(0.0)\n",
       " Gray{Float64}(0.0)  Gray{Float64}(0.0)     Gray{Float64}(0.0)\n",
       " Gray{Float64}(0.0)  Gray{Float64}(0.0)  …  Gray{Float64}(0.0)\n",
       " Gray{Float64}(0.0)  Gray{Float64}(0.0)     Gray{Float64}(0.0)\n",
       " Gray{Float64}(0.0)  Gray{Float64}(0.0)     Gray{Float64}(0.0)\n",
       " ⋮                                       ⋱                    \n",
       " Gray{Float64}(0.0)  Gray{Float64}(0.0)     Gray{Float64}(0.0)\n",
       " Gray{Float64}(0.0)  Gray{Float64}(0.0)     Gray{Float64}(0.0)\n",
       " Gray{Float64}(0.0)  Gray{Float64}(0.0)     Gray{Float64}(0.0)\n",
       " Gray{Float64}(0.0)  Gray{Float64}(0.0)     Gray{Float64}(0.0)\n",
       " Gray{Float64}(0.0)  Gray{Float64}(0.0)  …  Gray{Float64}(0.0)\n",
       " Gray{Float64}(0.0)  Gray{Float64}(0.0)     Gray{Float64}(0.0)\n",
       " Gray{Float64}(0.0)  Gray{Float64}(0.0)     Gray{Float64}(0.0)\n",
       " Gray{Float64}(0.0)  Gray{Float64}(0.0)     Gray{Float64}(0.0)\n",
       " Gray{Float64}(0.0)  Gray{Float64}(0.0)     Gray{Float64}(0.0)\n",
       " Gray{Float64}(0.0)  Gray{Float64}(0.0)  …  Gray{Float64}(0.0)\n",
       " Gray{Float64}(0.0)  Gray{Float64}(0.0)     Gray{Float64}(0.0)\n",
       " Gray{Float64}(0.0)  Gray{Float64}(0.0)     Gray{Float64}(0.0)"
      ]
     },
     "execution_count": 14,
     "metadata": {},
     "output_type": "execute_result"
    }
   ],
   "source": [
    "colorview(Gray, padded_array)"
   ]
  },
  {
   "cell_type": "code",
   "execution_count": 15,
   "metadata": {},
   "outputs": [
    {
     "name": "stderr",
     "output_type": "stream",
     "text": [
      "\u001b[1m\u001b[33mWARNING: \u001b[39m\u001b[22m\u001b[33mtype Network not present in workspace; reconstructing\u001b[39m\n"
     ]
    },
    {
     "data": {
      "text/plain": [
       "JLD.##Network#671([0.867347 -0.442488 … -0.340619 -0.873264; -0.901744 2.43722 … -0.647797 -0.442795; … ; 1.06249 -0.0549994 … -1.04169 -0.169506; -0.513905 -0.0289992 … -1.67579 -1.29718], [18.075 -9.55064 … -4.98984 -17.3471], [2.94967 3.67872 … -4.22721 1.06799; 2.73597 0.0266899 … -1.41927 -14.9056; … ; -2.78224 -0.683952 … 7.8007 -4.641; -27.0419 1.77507 … -0.0418587 3.36115], [-8.74618 -4.10781 … -5.51078 0.558305], [-6.6625 -4.53696 … -6.10613 5.27975; -4.40443 -1.24794 … -3.24317 -3.93752; … ; -3.10097 3.61379 … -1.70854 -0.260706; -2.64243 -5.45298 … -4.2565 0.627218], [-4.24536 -3.4018 … -0.557889 -2.804])"
      ]
     },
     "execution_count": 15,
     "metadata": {},
     "output_type": "execute_result"
    }
   ],
   "source": [
    "NN = jldopen(\"neural_net.jld\", \"r\") do file\n",
    "    read(file, \"NN\")\n",
    "end"
   ]
  },
  {
   "cell_type": "code",
   "execution_count": 16,
   "metadata": {},
   "outputs": [
    {
     "data": {
      "text/plain": [
       "predict (generic function with 1 method)"
      ]
     },
     "execution_count": 16,
     "metadata": {},
     "output_type": "execute_result"
    }
   ],
   "source": [
    "σ(x) = 1 ./ (1 .+ e.^-x)\n",
    "predict(x) = σ(σ(σ(x * NN.w1 + NN.b1) * NN.w2 + NN.b2) * NN.w3 + NN.b3)"
   ]
  },
  {
   "cell_type": "code",
   "execution_count": 17,
   "metadata": {
    "scrolled": true
   },
   "outputs": [
    {
     "data": {
      "text/plain": [
       "1×784 Array{Float64,2}:\n",
       " 0.0  0.0  0.0  0.0  0.0  0.0  0.0  0.0  …  0.0  0.0  0.0  0.0  0.0  0.0  0.0"
      ]
     },
     "execution_count": 17,
     "metadata": {},
     "output_type": "execute_result"
    }
   ],
   "source": [
    "test_array = reshape(padded_array, 1, 784)"
   ]
  },
  {
   "cell_type": "code",
   "execution_count": 18,
   "metadata": {},
   "outputs": [
    {
     "data": {
      "text/plain": [
       "(0.9990785016763981, 4)"
      ]
     },
     "execution_count": 18,
     "metadata": {},
     "output_type": "execute_result"
    }
   ],
   "source": [
    "findmax(predict(test_array))"
   ]
  },
  {
   "cell_type": "markdown",
   "metadata": {},
   "source": [
    "## WRAP-UP"
   ]
  },
  {
   "cell_type": "code",
   "execution_count": 19,
   "metadata": {},
   "outputs": [
    {
     "data": {
      "text/plain": [
       "get_preprocessed_img (generic function with 1 method)"
      ]
     },
     "execution_count": 19,
     "metadata": {},
     "output_type": "execute_result"
    }
   ],
   "source": [
    "function get_preprocessed_img(path)\n",
    "    img = load(path)\n",
    "    invert_grayed = abs.(Gray.(imresize(img, (28, 28))) .- 1.0)\n",
    "    while sum(invert_grayed[1, :]) == 0\n",
    "        invert_grayed = invert_grayed[2:end, :]\n",
    "    end\n",
    "    while sum(invert_grayed[:, 1]) == 0\n",
    "        invert_grayed = invert_grayed[:, 2:end]\n",
    "    end\n",
    "    while sum(invert_grayed[end, :]) == 0\n",
    "        invert_grayed = invert_grayed[1:end-1, :]\n",
    "    end\n",
    "    while sum(invert_grayed[:, end]) == 0\n",
    "        invert_grayed = invert_grayed[:, 1:end-1]\n",
    "    end\n",
    "    rows, cols = size(invert_grayed)\n",
    "    if rows > cols\n",
    "        factor = 20 / rows\n",
    "        rows = 20\n",
    "        cols = Int(round(factor * cols))\n",
    "        invert_grayed = imresize(invert_grayed, (rows, cols))\n",
    "    else\n",
    "        factor = 20 / cols\n",
    "        cols = 20\n",
    "        rows = Int(round(factor*rows))\n",
    "        invert_grayed = imresize(invert_grayed, (rows, cols))\n",
    "    end\n",
    "    row_padding = (Int(floor((28 - rows) / 2)), Int(ceil((28 - rows) / 2)))\n",
    "    col_padding  = (Int(floor((28 - cols) / 2)), Int(ceil((28 - cols) / 2)))\n",
    "    parent(padarray(invert_grayed, Fill(0, zip(row_padding, col_padding)...)))\n",
    "end"
   ]
  },
  {
   "cell_type": "code",
   "execution_count": 20,
   "metadata": {},
   "outputs": [
    {
     "name": "stderr",
     "output_type": "stream",
     "text": [
      "\u001b[1m\u001b[33mWARNING: \u001b[39m\u001b[22m\u001b[33mtype Network not present in workspace; reconstructing\u001b[39m\n"
     ]
    },
    {
     "data": {
      "text/plain": [
       "predict (generic function with 1 method)"
      ]
     },
     "execution_count": 20,
     "metadata": {},
     "output_type": "execute_result"
    }
   ],
   "source": [
    "NN = jldopen(\"neural_net.jld\", \"r\") do file\n",
    "    read(file, \"NN\")\n",
    "end\n",
    "σ(x) = 1 ./ (1 .+ e.^-x)\n",
    "predict(x) = σ(σ(σ(x * NN.w1 + NN.b1) * NN.w2 + NN.b2) * NN.w3 + NN.b3)"
   ]
  },
  {
   "cell_type": "code",
   "execution_count": 21,
   "metadata": {},
   "outputs": [
    {
     "data": {
      "image/png": "[encoded data removed]",
      "text/plain": [
       "28×28 Array{Gray{Float64},2}:\n",
       " Gray{Float64}(0.0)  Gray{Float64}(0.0)  …  Gray{Float64}(0.0)\n",
       " Gray{Float64}(0.0)  Gray{Float64}(0.0)     Gray{Float64}(0.0)\n",
       " Gray{Float64}(0.0)  Gray{Float64}(0.0)     Gray{Float64}(0.0)\n",
       " Gray{Float64}(0.0)  Gray{Float64}(0.0)     Gray{Float64}(0.0)\n",
       " Gray{Float64}(0.0)  Gray{Float64}(0.0)     Gray{Float64}(0.0)\n",
       " Gray{Float64}(0.0)  Gray{Float64}(0.0)  …  Gray{Float64}(0.0)\n",
       " Gray{Float64}(0.0)  Gray{Float64}(0.0)     Gray{Float64}(0.0)\n",
       " Gray{Float64}(0.0)  Gray{Float64}(0.0)     Gray{Float64}(0.0)\n",
       " Gray{Float64}(0.0)  Gray{Float64}(0.0)     Gray{Float64}(0.0)\n",
       " Gray{Float64}(0.0)  Gray{Float64}(0.0)     Gray{Float64}(0.0)\n",
       " Gray{Float64}(0.0)  Gray{Float64}(0.0)  …  Gray{Float64}(0.0)\n",
       " Gray{Float64}(0.0)  Gray{Float64}(0.0)     Gray{Float64}(0.0)\n",
       " Gray{Float64}(0.0)  Gray{Float64}(0.0)     Gray{Float64}(0.0)\n",
       " ⋮                                       ⋱                    \n",
       " Gray{Float64}(0.0)  Gray{Float64}(0.0)     Gray{Float64}(0.0)\n",
       " Gray{Float64}(0.0)  Gray{Float64}(0.0)     Gray{Float64}(0.0)\n",
       " Gray{Float64}(0.0)  Gray{Float64}(0.0)     Gray{Float64}(0.0)\n",
       " Gray{Float64}(0.0)  Gray{Float64}(0.0)     Gray{Float64}(0.0)\n",
       " Gray{Float64}(0.0)  Gray{Float64}(0.0)  …  Gray{Float64}(0.0)\n",
       " Gray{Float64}(0.0)  Gray{Float64}(0.0)     Gray{Float64}(0.0)\n",
       " Gray{Float64}(0.0)  Gray{Float64}(0.0)     Gray{Float64}(0.0)\n",
       " Gray{Float64}(0.0)  Gray{Float64}(0.0)     Gray{Float64}(0.0)\n",
       " Gray{Float64}(0.0)  Gray{Float64}(0.0)     Gray{Float64}(0.0)\n",
       " Gray{Float64}(0.0)  Gray{Float64}(0.0)  …  Gray{Float64}(0.0)\n",
       " Gray{Float64}(0.0)  Gray{Float64}(0.0)     Gray{Float64}(0.0)\n",
       " Gray{Float64}(0.0)  Gray{Float64}(0.0)     Gray{Float64}(0.0)"
      ]
     },
     "execution_count": 21,
     "metadata": {},
     "output_type": "execute_result"
    }
   ],
   "source": [
    "pre_image = get_preprocessed_img(\"bigger_image.png\")\n",
    "colorview(Gray, pre_image)"
   ]
  },
  {
   "cell_type": "code",
   "execution_count": 22,
   "metadata": {},
   "outputs": [
    {
     "data": {
      "text/plain": [
       "3"
      ]
     },
     "execution_count": 22,
     "metadata": {},
     "output_type": "execute_result"
    }
   ],
   "source": [
    "prediction_data = reshape(pre_image, 1, 784)\n",
    "findmax(predict(prediction_data))[2] - 1"
   ]
  }
 ],
 "metadata": {
  "kernelspec": {
   "display_name": "Julia 0.6.3",
   "language": "julia",
   "name": "julia-0.6"
  },
  "language_info": {
   "file_extension": ".jl",
   "mimetype": "application/julia",
   "name": "julia",
   "version": "0.6.3"
  },
  "latex_envs": {
   "LaTeX_envs_menu_present": true,
   "autocomplete": true,
   "bibliofile": "biblio.bib",
   "cite_by": "apalike",
   "current_citInitial": 1,
   "eqLabelWithNumbers": true,
   "eqNumInitial": 1,
   "hotkeys": {
    "equation": "Ctrl-E",
    "itemize": "Ctrl-I"
   },
   "labels_anchors": false,
   "latex_user_defs": false,
   "report_style_numbering": false,
   "user_envs_cfg": false
  }
 },
 "nbformat": 4,
 "nbformat_minor": 2
}
